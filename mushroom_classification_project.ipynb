{
 "cells": [
  {
   "cell_type": "markdown",
   "metadata": {},
   "source": [
    "# Mushroom Classification Project 🍄\n",
    "\n",
    "## Akbank Makine Öğrenmesi Bootcamp - Gözetimli Öğrenme Projesi\n",
    "\n",
    "Bu projede, Kaggle'dan alınan \"Mushroom Classification\" veri setini kullanarak mantarların yenilebilir (edible) veya zehirli (poisonous) olup olmadığını tahmin eden bir makine öğrenmesi modeli geliştireceğiz.\n",
    "\n",
    "### Proje Hedefleri:\n",
    "- Kapsamlı Keşifsel Veri Analizi (EDA) gerçekleştirmek\n",
    "- Veri ön işleme tekniklerini uygulamak\n",
    "- Çoklu algoritma karşılaştırması yapmak\n",
    "- En iyi performans gösteren modeli belirlemek\n",
    "\n",
    "### Kullanılacak Algoritmalar:\n",
    "- Logistic Regression\n",
    "- Ridge Classifier\n",
    "- Decision Tree\n",
    "- Gaussian Naive Bayes\n",
    "- Neural Networks (MLP)\n",
    "- Random Forest\n",
    "\n",
    "---"
   ]
  },
  {
   "cell_type": "markdown",
   "metadata": {},
   "source": [
    "## 1. Kütüphanelerin İçe Aktarılması\n",
    "\n",
    "Projemizde kullanacağımız tüm kütüphaneleri içe aktarıyoruz."
   ]
  },
  {
   "cell_type": "code",
   "execution_count": null,
   "metadata": {},
   "outputs": [],
   "source": [
    "# Import Pandas and Matplotlib\n",
    "import pandas as pd\n",
    "import matplotlib.pyplot as plt\n",
    "import seaborn as sns\n",
    "import numpy as np\n",
    "import warnings\n",
    "warnings.filterwarnings('ignore')\n",
    "\n",
    "# Görselleştirme ayarları\n",
    "plt.style.use('default')\n",
    "sns.set_palette(\"husl\")\n",
    "plt.rcParams['figure.figsize'] = (12, 8)"
   ]
  },
  {
   "cell_type": "code",
   "execution_count": null,
   "metadata": {},
   "outputs": [],
   "source": [
    "# Import Label Encoder and train_test_split\n",
    "from sklearn.preprocessing import LabelEncoder\n",
    "from sklearn.model_selection import train_test_split, cross_val_score, GridSearchCV"
   ]
  },
  {
   "cell_type": "code",
   "execution_count": null,
   "metadata": {},
   "outputs": [],
   "source": [
    "# Import Logistic Regression, Ridge Classifier, Decision Tree\n",
    "# Gaussian Naive Bayes, MLP Classifier and Random Forest models\n",
    "from sklearn.linear_model import LogisticRegression, RidgeClassifier\n",
    "from sklearn.tree import DecisionTreeClassifier\n",
    "from sklearn.naive_bayes import GaussianNB\n",
    "from sklearn.neural_network import MLPClassifier\n",
    "from sklearn.ensemble import RandomForestClassifier"
   ]
  },
  {
   "cell_type": "code",
   "execution_count": null,
   "metadata": {},
   "outputs": [],
   "source": [
    "# Import Classification Report function\n",
    "from sklearn.metrics import classification_report, confusion_matrix, accuracy_score\n",
    "from sklearn.metrics import precision_score, recall_score, f1_score"
   ]
  },
  {
   "cell_type": "markdown",
   "metadata": {},
   "source": [
    "## 2. Veri Seti ve Ön İşleme\n",
    "\n",
    "Veri setimiz 8124 mantar örneği içermektedir. Her mantar örneği 22 özelliğe sahiptir ve yenilebilir veya zehirli olarak kategorize edilmiştir."
   ]
  },
  {
   "cell_type": "markdown",
   "metadata": {},
   "source": [
    "### 2.1 Veriyi Okuma"
   ]
  },
  {
   "cell_type": "code",
   "execution_count": null,
   "metadata": {},
   "outputs": [],
   "source": [
    "# Read the \"mushroom.csv\" file\n",
    "data = pd.read_csv('mushrooms.csv')\n",
    "\n",
    "print(f\"Veri seti boyutu: {data.shape}\")\n",
    "print(f\"Toplam veri noktası: {len(data)}\")\n",
    "print(f\"Özellik sayısı: {data.shape[1] - 1}\")"
   ]
  },
  {
   "cell_type": "markdown",
   "metadata": {},
   "source": [
    "### 2.2 Veriyi Görselleştirme"
   ]
  },
  {
   "cell_type": "code",
   "execution_count": null,
   "metadata": {},
   "outputs": [],
   "source": [
    "# Use the head() function to display the first 5 rows of the data\n",
    "print(\"İlk 5 satır:\")\n",
    "data.head()"
   ]
  },
  {
   "cell_type": "code",
   "execution_count": null,
   "metadata": {},
   "outputs": [],
   "source": [
    "# Veri seti hakkında genel bilgiler\n",
    "print(\"Veri seti bilgileri:\")\n",
    "print(data.info())\n",
    "print(\"\\n\" + \"=\"*50 + \"\\n\")\n",
    "print(\"İstatistiksel özet:\")\n",
    "print(data.describe())"
   ]
  },
  {
   "cell_type": "code",
   "execution_count": null,
   "metadata": {},
   "outputs": [],
   "source": [
    "# Eksik değerleri kontrol etme\n",
    "print(\"Eksik değerler:\")\n",
    "missing_values = data.isnull().sum()\n",
    "print(missing_values[missing_values > 0])\n",
    "\n",
    "# '?' karakterini eksik değer olarak kontrol etme\n",
    "print(\"\\n'?' karakteri içeren sütunlar:\")\n",
    "for col in data.columns:\n",
    "    question_marks = (data[col] == '?').sum()\n",
    "    if question_marks > 0:\n",
    "        print(f\"{col}: {question_marks} adet '?' değeri\")"
   ]
  },
  {
   "cell_type": "markdown",
   "metadata": {},
   "source": [
    "## 3. Keşifsel Veri Analizi (EDA)\n",
    "\n",
    "Veri setimizi daha iyi anlamak için kapsamlı bir analiz gerçekleştireceğiz."
   ]
  },
  {
   "cell_type": "code",
   "execution_count": null,
   "metadata": {},
   "outputs": [],
   "source": [
    "# Use value_counts method on \"class\" column of data object\n",
    "class_counts = data['class'].value_counts()\n",
    "\n",
    "# Print the result\n",
    "print(\"Sınıf dağılımı:\")\n",
    "print(class_counts)\n",
    "print(f\"\\nYüzdelik dağılım:\")\n",
    "print(data['class'].value_counts(normalize=True) * 100)"
   ]
  },
  {
   "cell_type": "code",
   "execution_count": null,
   "metadata": {},
   "outputs": [],
   "source": [
    "# Add the bar for edible class\n",
    "# Add the bar for poisonous class\n",
    "# Print the plot\n",
    "\n",
    "plt.figure(figsize=(10, 6))\n",
    "plt.subplot(1, 2, 1)\n",
    "class_counts.plot(kind='bar', color=['#2E8B57', '#DC143C'])\n",
    "plt.title('Mantar Sınıflarının Dağılımı', fontsize=14, fontweight='bold')\n",
    "plt.xlabel('Sınıf (e: Yenilebilir, p: Zehirli)', fontsize=12)\n",
    "plt.ylabel('Sayı', fontsize=12)\n",
    "plt.xticks(rotation=0)\n",
    "\n",
    "plt.subplot(1, 2, 2)\n",
    "plt.pie(class_counts.values, labels=['Yenilebilir', 'Zehirli'], \n",
    "        colors=['#2E8B57', '#DC143C'], autopct='%1.1f%%', startangle=90)\n",
    "plt.title('Sınıf Dağılımı (Yüzde)', fontsize=14, fontweight='bold')\n",
    "\n",
    "plt.tight_layout()\n",
    "plt.show()"
   ]
  },
  {
   "cell_type": "code",
   "execution_count": null,
   "metadata": {},
   "outputs": [],
   "source": [
    "# Kategorik değişkenlerin benzersiz değer sayıları\n",
    "print(\"Her sütundaki benzersiz değer sayıları:\")\n",
    "for col in data.columns:\n",
    "    unique_count = data[col].nunique()\n",
    "    print(f\"{col}: {unique_count} benzersiz değer\")"
   ]
  },
  {
   "cell_type": "code",
   "execution_count": null,
   "metadata": {},
   "outputs": [],
   "source": [
    "# En önemli özelliklerin görselleştirilmesi\n",
    "fig, axes = plt.subplots(2, 3, figsize=(18, 12))\n",
    "fig.suptitle('Önemli Özelliklerin Sınıflara Göre Dağılımı', fontsize=16, fontweight='bold')\n",
    "\n",
    "important_features = ['odor', 'gill-size', 'gill-color', 'stalk-shape', 'cap-color', 'bruises']\n",
    "\n",
    "for i, feature in enumerate(important_features):\n",
    "    row = i // 3\n",
    "    col = i % 3\n",
    "    \n",
    "    cross_tab = pd.crosstab(data[feature], data['class'])\n",
    "    cross_tab.plot(kind='bar', ax=axes[row, col], color=['#2E8B57', '#DC143C'])\n",
    "    axes[row, col].set_title(f'{feature.title()} vs Sınıf', fontweight='bold')\n",
    "    axes[row, col].set_xlabel(feature.title())\n",
    "    axes[row, col].set_ylabel('Sayı')\n",
    "    axes[row, col].legend(['Yenilebilir', 'Zehirli'])\n",
    "    axes[row, col].tick_params(axis='x', rotation=45)\n",
    "\n",
    "plt.tight_layout()\n",
    "plt.show()"
   ]
  },
  {
   "cell_type": "markdown",
   "metadata": {},
   "source": [
    "## 4. Veri Ön İşleme\n",
    "\n",
    "Makine öğrenmesi algoritmalarının kategorik verileri işleyebilmesi için Label Encoding uygulayacağız."
   ]
  },
  {
   "cell_type": "code",
   "execution_count": null,
   "metadata": {},
   "outputs": [],
   "source": [
    "# Create the X variable for features\n",
    "X = data.drop('class', axis=1)\n",
    "\n",
    "# Create the y variable for output labels\n",
    "y = data['class']\n",
    "\n",
    "print(f\"Özellik matrisi boyutu: {X.shape}\")\n",
    "print(f\"Hedef değişken boyutu: {y.shape}\")"
   ]
  },
  {
   "cell_type": "code",
   "execution_count": null,
   "metadata": {},
   "outputs": [],
   "source": [
    "# Create an LabelEncoder object\n",
    "label_encoder = LabelEncoder()\n",
    "\n",
    "# Encode the features to integers inside a for loop\n",
    "for column in X.columns:\n",
    "    X[column] = label_encoder.fit_transform(X[column])\n",
    "\n",
    "# Encode the output labels to integers\n",
    "y = label_encoder.fit_transform(y)\n",
    "\n",
    "print(\"Label Encoding tamamlandı!\")\n",
    "print(f\"Hedef değişken: 0 = Yenilebilir, 1 = Zehirli\")"
   ]
  },
  {
   "cell_type": "code",
   "execution_count": null,
   "metadata": {},
   "outputs": [],
   "source": [
    "# Print X\n",
    "print(\"Kodlanmış özellik matrisi (ilk 5 satır):\")\n",
    "print(X.head())"
   ]
  },
  {
   "cell_type": "code",
   "execution_count": null,
   "metadata": {},
   "outputs": [],
   "source": [
    "# Print y\n",
    "print(\"Kodlanmış hedef değişken (ilk 10 değer):\")\n",
    "print(y[:10])\n",
    "print(f\"\\nHedef değişken dağılımı:\")\n",
    "unique, counts = np.unique(y, return_counts=True)\n",
    "for i, (val, count) in enumerate(zip(unique, counts)):\n",
    "    label = \"Yenilebilir\" if val == 0 else \"Zehirli\"\n",
    "    print(f\"{val} ({label}): {count} örnek\")"
   ]
  },
  {
   "cell_type": "markdown",
   "metadata": {},
   "source": [
    "## 5. Veri Setini Bölme\n",
    "\n",
    "Veri setimizi %70 eğitim, %30 test olacak şekilde böleceğiz."
   ]
  },
  {
   "cell_type": "code",
   "execution_count": null,
   "metadata": {},
   "outputs": [],
   "source": [
    "# Split the dataset into train and test sets with 70-30 ratio\n",
    "X_train, X_test, y_train, y_test = train_test_split(X, y, test_size=0.3, random_state=42, stratify=y)\n",
    "\n",
    "print(f\"Eğitim seti boyutu: {X_train.shape}\")\n",
    "print(f\"Test seti boyutu: {X_test.shape}\")\n",
    "print(f\"Eğitim seti hedef dağılımı: {np.bincount(y_train)}\")\n",
    "print(f\"Test seti hedef dağılımı: {np.bincount(y_test)}\")"
   ]
  },
  {
   "cell_type": "markdown",
   "metadata": {},
   "source": [
    "## 6. Model Oluşturma\n",
    "\n",
    "Farklı makine öğrenmesi algoritmalarını kullanarak modeller oluşturacağız."
   ]
  },
  {
   "cell_type": "code",
   "execution_count": null,
   "metadata": {},
   "outputs": [],
   "source": [
    "# Create an object using the LogisticRegression() class\n",
    "logistic_model = LogisticRegression(random_state=42, max_iter=1000)\n",
    "\n",
    "# Create an object using the RidgeClassifier() class\n",
    "ridge_model = RidgeClassifier(random_state=42)\n",
    "\n",
    "# Create an object using the DecisionTreeClassifier() class\n",
    "decision_tree_model = DecisionTreeClassifier(random_state=42)\n",
    "\n",
    "# Create an object using the GaussianNB() class\n",
    "naive_bayes_model = GaussianNB()\n",
    "\n",
    "# Create an object using the MLPClassifier() class\n",
    "neural_network_model = MLPClassifier(random_state=42, max_iter=1000)\n",
    "\n",
    "print(\"Tüm modeller oluşturuldu!\")"
   ]
  },
  {
   "cell_type": "markdown",
   "metadata": {},
   "source": [
    "## 7. Model Eğitimi\n",
    "\n",
    "Oluşturduğumuz modelleri eğitim verisi ile eğiteceğiz."
   ]
  },
  {
   "cell_type": "code",
   "execution_count": null,
   "metadata": {},
   "outputs": [],
   "source": [
    "# Train the Logistic Classifier model\n",
    "logistic_model.fit(X_train, y_train)\n",
    "print(\"Logistic Regression modeli eğitildi ✓\")\n",
    "\n",
    "# Train the Ridge Classifier model\n",
    "ridge_model.fit(X_train, y_train)\n",
    "print(\"Ridge Classifier modeli eğitildi ✓\")\n",
    "\n",
    "# Train the Decision Tree model\n",
    "decision_tree_model.fit(X_train, y_train)\n",
    "print(\"Decision Tree modeli eğitildi ✓\")\n",
    "\n",
    "# Train the Naive Bayes model\n",
    "naive_bayes_model.fit(X_train, y_train)\n",
    "print(\"Naive Bayes modeli eğitildi ✓\")\n",
    "\n",
    "# Train the Neural Network model\n",
    "neural_network_model.fit(X_train, y_train)\n",
    "print(\"Neural Network modeli eğitildi ✓\")"
   ]
  },
  {
   "cell_type": "markdown",
   "metadata": {},
   "source": [
    "## 8. Tahmin Yapma\n",
    "\n",
    "Eğitilmiş modellerimizi kullanarak test verisi üzerinde tahminler yapacağız."
   ]
  },
  {
   "cell_type": "code",
   "execution_count": null,
   "metadata": {},
   "outputs": [],
   "source": [
    "# Make prediction using the test dataset on Logistic Classifier model\n",
    "logistic_predictions = logistic_model.predict(X_test)\n",
    "\n",
    "# Make prediction using the test dataset on Ridge Classifier model\n",
    "ridge_predictions = ridge_model.predict(X_test)\n",
    "\n",
    "# Make prediction using the test dataset on Decision Tree model\n",
    "decision_tree_predictions = decision_tree_model.predict(X_test)\n",
    "\n",
    "# Make prediction using the test dataset on Naive Bayes model\n",
    "naive_bayes_predictions = naive_bayes_model.predict(X_test)\n",
    "\n",
    "# Make prediction using the test dataset on Neural Network model\n",
    "neural_network_predictions = neural_network_model.predict(X_test)\n",
    "\n",
    "print(\"Tüm modeller için tahminler tamamlandı!\")"
   ]
  },
  {
   "cell_type": "markdown",
   "metadata": {},
   "source": [
    "## 9. Sınıflandırma Raporları Oluşturma\n",
    "\n",
    "Her model için detaylı performans raporları oluşturacağız."
   ]
  },
  {
   "cell_type": "code",
   "execution_count": null,
   "metadata": {},
   "outputs": [],
   "source": [
    "# Create a Classification Report for Logistic Classifier model\n",
    "logistic_report = classification_report(y_test, logistic_predictions, \n",
    "                                       target_names=['Yenilebilir', 'Zehirli'])\n",
    "\n",
    "# Create a Classification Report for Ridge Classifier model\n",
    "ridge_report = classification_report(y_test, ridge_predictions, \n",
    "                                   target_names=['Yenilebilir', 'Zehirli'])\n",
    "\n",
    "# Create a Classification Report for Decision Tree model\n",
    "decision_tree_report = classification_report(y_test, decision_tree_predictions, \n",
    "                                            target_names=['Yenilebilir', 'Zehirli'])\n",
    "\n",
    "# Create a Classification Report for Naive Bayes model\n",
    "naive_bayes_report = classification_report(y_test, naive_bayes_predictions, \n",
    "                                         target_names=['Yenilebilir', 'Zehirli'])\n",
    "\n",
    "# Create a Classification Report for Neural Network model\n",
    "neural_network_report = classification_report(y_test, neural_network_predictions, \n",
    "                                             target_names=['Yenilebilir', 'Zehirli'])\n",
    "\n",
    "print(\"Tüm sınıflandırma raporları oluşturuldu!\")"
   ]
  },
  {
   "cell_type": "markdown",
   "metadata": {},
   "source": [
    "## 10. Model Performanslarının Görüntülenmesi\n",
    "\n",
    "Her modelin performansını detaylı olarak inceleyeceğiz."
   ]
  },
  {
   "cell_type": "code",
   "execution_count": null,
   "metadata": {},
   "outputs": [],
   "source": [
    "# Print the report of the Logistic Regression model\n",
    "print(\"=\" * 60)\n",
    "print(\"LOGISTIC REGRESSION MODEL PERFORMANSI\")\n",
    "print(\"=\" * 60)\n",
    "print(logistic_report)\n",
    "print(f\"Doğruluk Oranı: {accuracy_score(y_test, logistic_predictions):.4f}\")"
   ]
  },
  {
   "cell_type": "code",
   "execution_count": null,
   "metadata": {},
   "outputs": [],
   "source": [
    "# Print the report of the Ridge Regression model\n",
    "print(\"=\" * 60)\n",
    "print(\"RIDGE CLASSIFIER MODEL PERFORMANSI\")\n",
    "print(\"=\" * 60)\n",
    "print(ridge_report)\n",
    "print(f\"Doğruluk Oranı: {accuracy_score(y_test, ridge_predictions):.4f}\")"
   ]
  },
  {
   "cell_type": "code",
   "execution_count": null,
   "metadata": {},
   "outputs": [],
   "source": [
    "# Print the report of the Decision Tree model\n",
    "print(\"=\" * 60)\n",
    "print(\"DECISION TREE MODEL PERFORMANSI\")\n",
    "print(\"=\" * 60)\n",
    "print(decision_tree_report)\n",
    "print(f\"Doğruluk Oranı: {accuracy_score(y_test, decision_tree_predictions):.4f}\")"
   ]
  },
  {
   "cell_type": "code",
   "execution_count": null,
   "metadata": {},
   "outputs": [],
   "source": [
    "# Print the report of the Naive Bayes model\n",
    "print(\"=\" * 60)\n",
    "print(\"NAIVE BAYES MODEL PERFORMANSI\")\n",
    "print(\"=\" * 60)\n",
    "print(naive_bayes_report)\n",
    "print(f\"Doğruluk Oranı: {accuracy_score(y_test, naive_bayes_predictions):.4f}\")"
   ]
  },
  {
   "cell_type": "code",
   "execution_count": null,
   "metadata": {},
   "outputs": [],
   "source": [
    "# Print the report of the Neural Network model\n",
    "print(\"=\" * 60)\n",
    "print(\"NEURAL NETWORK MODEL PERFORMANSI\")\n",
    "print(\"=\" * 60)\n",
    "print(neural_network_report)\n",
    "print(f\"Doğruluk Oranı: {accuracy_score(y_test, neural_network_predictions):.4f}\")"
   ]
  },
  {
   "cell_type": "markdown",
   "metadata": {},
   "source": [
    "## 11. Random Forest Modeli\n",
    "\n",
    "Ek olarak Random Forest algoritmasını da test edeceğiz."
   ]
  },
  {
   "cell_type": "code",
   "execution_count": null,
   "metadata": {},
   "outputs": [],
   "source": [
    "# Create Random Forest Classifier object, train it and make predictions\n",
    "random_forest_model = RandomForestClassifier(n_estimators=100, random_state=42)\n",
    "random_forest_model.fit(X_train, y_train)\n",
    "random_forest_predictions = random_forest_model.predict(X_test)\n",
    "\n",
    "print(\"Random Forest modeli eğitildi ve tahminler yapıldı!\")"
   ]
  },
  {
   "cell_type": "code",
   "execution_count": null,
   "metadata": {},
   "outputs": [],
   "source": [
    "# Create a classification Report for Random Forest model\n",
    "random_forest_report = classification_report(y_test, random_forest_predictions, \n",
    "                                            target_names=['Yenilebilir', 'Zehirli'])\n",
    "\n",
    "# Print the classification report\n",
    "print(\"=\" * 60)\n",
    "print(\"RANDOM FOREST MODEL PERFORMANSI\")\n",
    "print(\"=\" * 60)\n",
    "print(random_forest_report)\n",
    "print(f\"Doğruluk Oranı: {accuracy_score(y_test, random_forest_predictions):.4f}\")"
   ]
  },
  {
   "cell_type": "markdown",
   "metadata": {},
   "source": [
    "## 12. Model Karşılaştırması ve Sonuçlar\n",
    "\n",
    "Tüm modellerin performansını karşılaştırarak en iyi modeli belirleyeceğiz."
   ]
  },
  {
   "cell_type": "code",
   "execution_count": null,
   "metadata": {},
   "outputs": [],
   "source": [
    "# Model performanslarını karşılaştırma\n",
    "models = {\n",
    "    'Logistic Regression': logistic_predictions,\n",
    "    'Ridge Classifier': ridge_predictions,\n",
    "    'Decision Tree': decision_tree_predictions,\n",
    "    'Naive Bayes': naive_bayes_predictions,\n",
    "    'Neural Network': neural_network_predictions,\n",
    "    'Random Forest': random_forest_predictions\n",
    "}\n",
    "\n",
    "results = []\n",
    "for name, predictions in models.items():\n",
    "    accuracy = accuracy_score(y_test, predictions)\n",
    "    precision = precision_score(y_test, predictions, average='weighted')\n",
    "    recall = recall_score(y_test, predictions, average='weighted')\n",
    "    f1 = f1_score(y_test, predictions, average='weighted')\n",
    "    \n",
    "    results.append({\n",
    "        'Model': name,\n",
    "        'Accuracy': accuracy,\n",
    "        'Precision': precision,\n",
    "        'Recall': recall,\n",
    "        'F1-Score': f1\n",
    "    })\n",
    "\n",
    "results_df = pd.DataFrame(results)\n",
    "results_df = results_df.sort_values('Accuracy', ascending=False)\n",
    "\n",
    "print(\"=\" * 80)\n",
    "print(\"TÜM MODELLERİN PERFORMANS KARŞILAŞTIRMASI\")\n",
    "print(\"=\" * 80)\n",
    "print(results_df.round(4))"
   ]
  },
  {
   "cell_type": "code",
   "execution_count": null,
   "metadata": {},
   "outputs": [],
   "source": [
    "# Performans görselleştirmesi\n",
    "fig, axes = plt.subplots(2, 2, figsize=(15, 12))\n",
    "fig.suptitle('Model Performans Karşılaştırması', fontsize=16, fontweight='bold')\n",
    "\n",
    "metrics = ['Accuracy', 'Precision', 'Recall', 'F1-Score']\n",
    "colors = ['#1f77b4', '#ff7f0e', '#2ca02c', '#d62728']\n",
    "\n",
    "for i, metric in enumerate(metrics):\n",
    "    row = i // 2\n",
    "    col = i % 2\n",
    "    \n",
    "    ax = axes[row, col]\n",
    "    bars = ax.bar(results_df['Model'], results_df[metric], color=colors[i], alpha=0.7)\n",
    "    ax.set_title(f'{metric} Karşılaştırması', fontweight='bold')\n",
    "    ax.set_ylabel(metric)\n",
    "    ax.tick_params(axis='x', rotation=45)\n",
    "    \n",
    "    # Değerleri çubukların üzerine yazma\n",
    "    for bar, value in zip(bars, results_df[metric]):\n",
    "        ax.text(bar.get_x() + bar.get_width()/2, bar.get_height() + 0.001, \n",
    "                f'{value:.3f}', ha='center', va='bottom', fontweight='bold')\n",
    "    \n",
    "    ax.set_ylim(0, 1.1)\n",
    "\n",
    "plt.tight_layout()\n",
    "plt.show()"
   ]
  },
  {
   "cell_type": "code",
   "execution_count": null,
   "metadata": {},
   "outputs": [],
   "source": [
    "# En iyi modeli belirleme\n",
    "best_model = results_df.iloc[0]\n",
    "print(\"=\" * 60)\n",
    "print(\"EN İYİ PERFORMANS GÖSTEREN MODEL\")\n",
    "print(\"=\" * 60)\n",
    "print(f\"Model: {best_model['Model']}\")\n",
    "print(f\"Doğruluk: {best_model['Accuracy']:.4f}\")\n",
    "print(f\"Kesinlik: {best_model['Precision']:.4f}\")\n",
    "print(f\"Duyarlılık: {best_model['Recall']:.4f}\")\n",
    "print(f\"F1-Skor: {best_model['F1-Score']:.4f}\")"
   ]
  },
  {
   "cell_type": "markdown",
   "metadata": {},
   "source": [
    "## 13. Confusion Matrix Analizi\n",
    "\n",
    "En iyi performans gösteren modeller için confusion matrix analizi yapacağız."
   ]
  },
  {
   "cell_type": "code",
   "execution_count": null,
   "metadata": {},
   "outputs": [],
   "source": [
    "# En iyi 3 modelin confusion matrix'lerini görselleştirme\n",
    "top_3_models = results_df.head(3)\n",
    "\n",
    "fig, axes = plt.subplots(1, 3, figsize=(18, 5))\n",
    "fig.suptitle('En İyi 3 Modelin Confusion Matrix Analizi', fontsize=16, fontweight='bold')\n",
    "\n",
    "for i, (_, row) in enumerate(top_3_models.iterrows()):\n",
    "    model_name = row['Model']\n",
    "    predictions = models[model_name]\n",
    "    \n",
    "    cm = confusion_matrix(y_test, predictions)\n",
    "    \n",
    "    sns.heatmap(cm, annot=True, fmt='d', cmap='Blues', \n",
    "                xticklabels=['Yenilebilir', 'Zehirli'],\n",
    "                yticklabels=['Yenilebilir', 'Zehirli'],\n",
    "                ax=axes[i])\n",
    "    \n",
    "    axes[i].set_title(f'{model_name}\\nAccuracy: {row[\"Accuracy\"]:.4f}', fontweight='bold')\n",
    "    axes[i].set_xlabel('Tahmin Edilen')\n",
    "    axes[i].set_ylabel('Gerçek')\n",
    "\n",
    "plt.tight_layout()\n",
    "plt.show()"
   ]
  },
  {
   "cell_type": "markdown",
   "metadata": {},
   "source": [
    "## 14. Özellik Önem Analizi\n",
    "\n",
    "Random Forest modelini kullanarak hangi özelliklerin en önemli olduğunu analiz edeceğiz."
   ]
  },
  {
   "cell_type": "code",
   "execution_count": null,
   "metadata": {},
   "outputs": [],
   "source": [
    "# Özellik önem analizi\n",
    "feature_importance = pd.DataFrame({\n",
    "    'feature': X.columns,\n",
    "    'importance': random_forest_model.feature_importances_\n",
    "}).sort_values('importance', ascending=False)\n",
    "\n",
    "plt.figure(figsize=(12, 8))\n",
    "plt.barh(range(len(feature_importance)), feature_importance['importance'])\n",
    "plt.yticks(range(len(feature_importance)), feature_importance['feature'])\n",
    "plt.xlabel('Önem Skoru')\n",
    "plt.title('Random Forest - Özellik Önem Analizi', fontsize=14, fontweight='bold')\n",
    "plt.gca().invert_yaxis()\n",
    "\n",
    "# En önemli 10 özelliği vurgulama\n",
    "for i in range(min(10, len(feature_importance))):\n",
    "    plt.barh(i, feature_importance.iloc[i]['importance'], color='red', alpha=0.7)\n",
    "\n",
    "plt.tight_layout()\n",
    "plt.show()\n",
    "\n",
    "print(\"En önemli 10 özellik:\")\n",
    "print(feature_importance.head(10))"
   ]
  },
  {
   "cell_type": "markdown",
   "metadata": {},
   "source": [
    "## 15. Cross-Validation Analizi\n",
    "\n",
    "Modellerimizin güvenilirliğini test etmek için cross-validation analizi yapacağız."
   ]
  },
  {
   "cell_type": "code",
   "execution_count": null,
   "metadata": {},
   "outputs": [],
   "source": [
    "# Cross-validation analizi\n",
    "model_objects = {\n",
    "    'Logistic Regression': logistic_model,\n",
    "    'Ridge Classifier': ridge_model,\n",
    "    'Decision Tree': decision_tree_model,\n",
    "    'Naive Bayes': naive_bayes_model,\n",
    "    'Neural Network': neural_network_model,\n",
    "    'Random Forest': random_forest_model\n",
    "}\n",
    "\n",
    "cv_results = []\n",
    "for name, model in model_objects.items():\n",
    "    cv_scores = cross_val_score(model, X, y, cv=5, scoring='accuracy')\n",
    "    cv_results.append({\n",
    "        'Model': name,\n",
    "        'CV_Mean': cv_scores.mean(),\n",
    "        'CV_Std': cv_scores.std(),\n",
    "        'CV_Scores': cv_scores\n",
    "    })\n",
    "\n",
    "cv_df = pd.DataFrame(cv_results)\n",
    "cv_df = cv_df.sort_values('CV_Mean', ascending=False)\n",
    "\n",
    "print(\"=\" * 70)\n",
    "print(\"5-FOLD CROSS-VALIDATION SONUÇLARI\")\n",
    "print(\"=\" * 70)\n",
    "for _, row in cv_df.iterrows():\n",
    "    print(f\"{row['Model']:20} | Ortalama: {row['CV_Mean']:.4f} ± {row['CV_Std']:.4f}\")"
   ]
  },
  {
   "cell_type": "code",
   "execution_count": null,
   "metadata": {},
   "outputs": [],
   "source": [
    "# Cross-validation sonuçlarını görselleştirme\n",
    "plt.figure(figsize=(12, 8))\n",
    "cv_scores_list = [row['CV_Scores'] for _, row in cv_df.iterrows()]\n",
    "model_names = cv_df['Model'].tolist()\n",
    "\n",
    "plt.boxplot(cv_scores_list, labels=model_names)\n",
    "plt.title('Cross-Validation Skor Dağılımları', fontsize=14, fontweight='bold')\n",
    "plt.ylabel('Accuracy Score')\n",
    "plt.xticks(rotation=45)\n",
    "plt.grid(True, alpha=0.3)\n",
    "plt.tight_layout()\n",
    "plt.show()"
   ]
  },
  {
   "cell_type": "markdown",
   "metadata": {},
   "source": [
    "## 16. Sonuç ve Değerlendirme\n",
    "\n",
    "### Proje Özeti\n",
    "\n",
    "Bu projede, mantar sınıflandırması problemi için 6 farklı makine öğrenmesi algoritması karşılaştırılmıştır:\n",
    "\n",
    "1. **Logistic Regression**\n",
    "2. **Ridge Classifier** \n",
    "3. **Decision Tree**\n",
    "4. **Gaussian Naive Bayes**\n",
    "5. **Neural Network (MLP)**\n",
    "6. **Random Forest**\n",
    "\n",
    "### Ana Bulgular:\n",
    "\n",
    "- **Veri Seti**: 8124 mantar örneği, 22 özellik\n",
    "- **Sınıf Dağılımı**: Dengeli dağılım (yaklaşık %50-%50)\n",
    "- **En İyi Model**: Analiz sonucunda belirlenen en yüksek performanslı model\n",
    "- **Kritik Özellikler**: Özellik önem analizi ile belirlenen en etkili faktörler\n",
    "\n",
    "### Gerçek Hayat Uygulamaları:\n",
    "\n",
    "1. **Doğa Yürüyüşü Uygulamaları**: Mobil uygulamalarda mantar tanıma\n",
    "2. **Eğitim Araçları**: Biyoloji eğitiminde kullanım\n",
    "3. **Güvenlik Sistemleri**: Yiyecek güvenliği kontrolü\n",
    "4. **Araştırma**: Mikrobiyoloji ve botanik araştırmaları\n",
    "\n",
    "### Gelecek Geliştirmeler:\n",
    "\n",
    "1. **Görüntü İşleme**: Mantar fotoğraflarından otomatik özellik çıkarımı\n",
    "2. **Ensemble Yöntemler**: Birden fazla modelin kombinasyonu\n",
    "3. **Deep Learning**: CNN tabanlı görüntü sınıflandırması\n",
    "4. **Mobil Uygulama**: Gerçek zamanlı mantar tanıma uygulaması\n",
    "5. **Veri Artırma**: Daha fazla mantar türü ve özellik eklenmesi\n",
    "\n",
    "### Teknik Başarılar:\n",
    "\n",
    "- Yüksek doğruluk oranları elde edildi\n",
    "- Cross-validation ile model güvenilirliği doğrulandı\n",
    "- Özellik önem analizi ile kritik faktörler belirlendi\n",
    "- Kapsamlı model karşılaştırması gerçekleştirildi\n",
    "\n",
    "Bu proje, makine öğrenmesi tekniklerinin biyolojik sınıflandırma problemlerindeki etkinliğini göstermektedir."
   ]
  }
 ],
 "metadata": {
  "kernelspec": {
   "display_name": "Python 3",
   "language": "python",
   "name": "python3"
  },
  "language_info": {
   "codemirror_mode": {
    "name": "ipython",
    "version": 3
   },
   "file_extension": ".py",
   "mimetype": "text/x-python",
   "name": "python",
   "nbconvert_exporter": "python",
   "pygments_lexer": "ipython3",
   "version": "3.8.5"
  }
 },
 "nbformat": 4,
 "nbformat_minor": 4
}
